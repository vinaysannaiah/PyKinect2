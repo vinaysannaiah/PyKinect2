{
 "cells": [
  {
   "cell_type": "code",
   "execution_count": 1,
   "metadata": {},
   "outputs": [],
   "source": [
    "import pykinect2\n",
    "import pygame\n",
    "import cv2\n",
    "import ctypes"
   ]
  },
  {
   "cell_type": "code",
   "execution_count": 2,
   "metadata": {},
   "outputs": [],
   "source": [
    "from pykinect2 import PyKinectV2\n",
    "from pykinect2 import PyKinectRuntime"
   ]
  },
  {
   "cell_type": "code",
   "execution_count": 3,
   "metadata": {},
   "outputs": [],
   "source": [
    "kinectcam = PyKinectRuntime.PyKinectRuntime(PyKinectV2.FrameSourceTypes_Color)"
   ]
  },
  {
   "cell_type": "code",
   "execution_count": 4,
   "metadata": {},
   "outputs": [],
   "source": [
    "def draw_color_frame(frame, target_surface):\n",
    "    target_surface.lock()\n",
    "    address = kinectcam.surface_as_array(target_surface.get_buffer())\n",
    "    ctypes.memmove(address, frame.ctypes.data, frame.size)\n",
    "    del address\n",
    "    target_surface.unlock()"
   ]
  },
  {
   "cell_type": "code",
   "execution_count": 5,
   "metadata": {},
   "outputs": [
    {
     "data": {
      "text/plain": [
       "(6, 0)"
      ]
     },
     "execution_count": 5,
     "metadata": {},
     "output_type": "execute_result"
    }
   ],
   "source": [
    "pygame.init()"
   ]
  },
  {
   "cell_type": "code",
   "execution_count": 6,
   "metadata": {},
   "outputs": [],
   "source": [
    "frame_surface = pygame.Surface((kinectcam.color_frame_desc.Width, kinectcam.color_frame_desc.Height), 0, 32)"
   ]
  },
  {
   "cell_type": "code",
   "execution_count": 7,
   "metadata": {},
   "outputs": [],
   "source": [
    "clock = pygame.time.Clock()\n",
    "pygame.display.set_caption(\"Kinect View\")\n",
    "infoObject = pygame.display.Info()\n",
    "screen = pygame.display.set_mode((infoObject.current_w >> 1, infoObject.current_h >> 1),\n",
    "                                pygame.HWSURFACE|pygame.DOUBLEBUF|pygame.RESIZABLE, 32)\n",
    "clock = pygame.time.Clock()"
   ]
  },
  {
   "cell_type": "code",
   "execution_count": 9,
   "metadata": {},
   "outputs": [],
   "source": [
    "done = False\n",
    "while not done:\n",
    "    for event in pygame.event.get(): # User did something\n",
    "        if event.type == pygame.QUIT: # If user clicked close\n",
    "            done = True # Flag that we are done so we exit this loop\n",
    "\n",
    "        elif event.type == pygame.VIDEORESIZE: # window resized\n",
    "            screen = pygame.display.set_mode(event.dict['size'], \n",
    "                                                   pygame.HWSURFACE|pygame.DOUBLEBUF|pygame.RESIZABLE, 32)\n",
    "            \n",
    "    if kinectcam.has_new_color_frame():\n",
    "        frame = kinectcam.get_last_color_frame()\n",
    "        draw_color_frame(frame, frame_surface)\n",
    "        frame = None   \n",
    "    h_to_w = float(frame_surface.get_height()) / frame_surface.get_width()\n",
    "    target_height = int(h_to_w * screen.get_width())\n",
    "    surface_to_draw = pygame.transform.scale(frame_surface, (screen.get_width(), target_height));\n",
    "    screen.blit(surface_to_draw, (0,0))\n",
    "    surface_to_draw = None\n",
    "    cap = pygame.display.update()\n",
    "    cap\n",
    "    pygame.display.flip()\n",
    "    clock.tick(60)\n",
    "pygame.quit()\n",
    "kinectcam.close()"
   ]
  },
  {
   "cell_type": "code",
   "execution_count": 11,
   "metadata": {},
   "outputs": [],
   "source": [
    "img = cv2.imread(cap)"
   ]
  },
  {
   "cell_type": "code",
   "execution_count": 14,
   "metadata": {},
   "outputs": [],
   "source": [
    "img"
   ]
  },
  {
   "cell_type": "code",
   "execution_count": null,
   "metadata": {},
   "outputs": [],
   "source": []
  }
 ],
 "metadata": {
  "kernelspec": {
   "display_name": "Python 3",
   "language": "python",
   "name": "python3"
  },
  "language_info": {
   "codemirror_mode": {
    "name": "ipython",
    "version": 3
   },
   "file_extension": ".py",
   "mimetype": "text/x-python",
   "name": "python",
   "nbconvert_exporter": "python",
   "pygments_lexer": "ipython3",
   "version": "3.6.6"
  }
 },
 "nbformat": 4,
 "nbformat_minor": 2
}
